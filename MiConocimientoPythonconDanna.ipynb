{
 "cells": [
  {
   "cell_type": "code",
   "execution_count": 618,
   "metadata": {},
   "outputs": [
    {
     "name": "stdout",
     "output_type": "stream",
     "text": [
      "42\n"
     ]
    }
   ],
   "source": [
    "import random\n",
    "x=random.randint(1,100)\n",
    "print(x)"
   ]
  },
  {
   "cell_type": "code",
   "execution_count": 619,
   "metadata": {},
   "outputs": [],
   "source": [
    "x=random.randint(1,100)"
   ]
  },
  {
   "cell_type": "code",
   "execution_count": 620,
   "metadata": {},
   "outputs": [
    {
     "name": "stdout",
     "output_type": "stream",
     "text": [
      "51\n"
     ]
    }
   ],
   "source": [
    "print(x)"
   ]
  },
  {
   "cell_type": "code",
   "execution_count": 621,
   "metadata": {},
   "outputs": [
    {
     "name": "stdout",
     "output_type": "stream",
     "text": [
      "100\n"
     ]
    }
   ],
   "source": [
    "import numpy as np\n",
    "x=np.array(100)\n",
    "print(x)"
   ]
  },
  {
   "cell_type": "markdown",
   "metadata": {},
   "source": [
    "CELDAS DE TEXTO\n",
    "Esta celda es de Texto"
   ]
  },
  {
   "cell_type": "code",
   "execution_count": 623,
   "metadata": {},
   "outputs": [],
   "source": [
    "import numpy as np\n",
    "escalar=np.array(10)\n",
    "vector=np.array([1,3,5,7,9])\n",
    "matrix=np.array([[1,2,3],[4,5,6],[7,8,9]])\n",
    "tensor=np.array([[[1,2],[3,4],[5,6]]])"
   ]
  },
  {
   "cell_type": "code",
   "execution_count": 624,
   "metadata": {},
   "outputs": [
    {
     "name": "stdout",
     "output_type": "stream",
     "text": [
      "10\n",
      "[1 3 5 7 9]\n",
      "[[1 2 3]\n",
      " [4 5 6]\n",
      " [7 8 9]]\n",
      "[[[1 2]\n",
      "  [3 4]\n",
      "  [5 6]]]\n"
     ]
    }
   ],
   "source": [
    "print(escalar)\n",
    "print(vector)\n",
    "print(matrix)\n",
    "print(tensor)"
   ]
  },
  {
   "cell_type": "code",
   "execution_count": 625,
   "metadata": {},
   "outputs": [
    {
     "data": {
      "text/plain": [
       "array([[[[1, 2],\n",
       "         [3, 4],\n",
       "         [5, 6]]],\n",
       "\n",
       "\n",
       "       [[[1, 2],\n",
       "         [3, 4],\n",
       "         [5, 6]]],\n",
       "\n",
       "\n",
       "       [[[1, 2],\n",
       "         [3, 4],\n",
       "         [5, 6]]]])"
      ]
     },
     "execution_count": 625,
     "metadata": {},
     "output_type": "execute_result"
    }
   ],
   "source": [
    "tensor=np.array([\n",
    "    [[[1,2],[3,4],[5,6]]],\n",
    "\t[[[1,2],[3,4],[5,6]]],\n",
    "\t[[[1,2],[3,4],[5,6]]]\n",
    "])\n",
    "\n",
    "tensor"
   ]
  },
  {
   "cell_type": "code",
   "execution_count": 626,
   "metadata": {},
   "outputs": [
    {
     "name": "stdout",
     "output_type": "stream",
     "text": [
      "[[[[1 2]\n",
      "   [3 4]\n",
      "   [5 6]]]\n",
      "\n",
      "\n",
      " [[[1 2]\n",
      "   [3 4]\n",
      "   [5 6]]]\n",
      "\n",
      "\n",
      " [[[1 2]\n",
      "   [3 4]\n",
      "   [5 6]]]]\n"
     ]
    }
   ],
   "source": [
    "print(tensor)"
   ]
  },
  {
   "cell_type": "code",
   "execution_count": 627,
   "metadata": {},
   "outputs": [
    {
     "data": {
      "text/plain": [
       "array([[0., 0., 0.],\n",
       "       [0., 0., 0.],\n",
       "       [0., 0., 0.]])"
      ]
     },
     "execution_count": 627,
     "metadata": {},
     "output_type": "execute_result"
    }
   ],
   "source": [
    "ceros=np.zeros((3,3))\n",
    "ceros"
   ]
  },
  {
   "cell_type": "code",
   "execution_count": 628,
   "metadata": {},
   "outputs": [
    {
     "data": {
      "text/plain": [
       "array([[1., 1., 1., 1.],\n",
       "       [1., 1., 1., 1.],\n",
       "       [1., 1., 1., 1.],\n",
       "       [1., 1., 1., 1.]])"
      ]
     },
     "execution_count": 628,
     "metadata": {},
     "output_type": "execute_result"
    }
   ],
   "source": [
    "unos=np.ones((4,4))\n",
    "unos"
   ]
  },
  {
   "cell_type": "code",
   "execution_count": 629,
   "metadata": {},
   "outputs": [
    {
     "data": {
      "text/plain": [
       "array([0, 1, 2, 3, 4, 5, 6, 7, 8])"
      ]
     },
     "execution_count": 629,
     "metadata": {},
     "output_type": "execute_result"
    }
   ],
   "source": [
    "v1=np.arange(9)\n",
    "v1"
   ]
  },
  {
   "cell_type": "code",
   "execution_count": 630,
   "metadata": {},
   "outputs": [
    {
     "data": {
      "text/plain": [
       "array([10, 11, 12, 13, 14, 15, 16, 17, 18, 19, 20, 21, 22, 23, 24, 25, 26,\n",
       "       27, 28, 29, 30, 31, 32, 33, 34, 35, 36, 37, 38, 39, 40, 41, 42, 43,\n",
       "       44, 45, 46, 47, 48, 49, 50, 51, 52, 53, 54, 55, 56, 57, 58, 59, 60,\n",
       "       61, 62, 63, 64, 65, 66, 67, 68, 69, 70, 71, 72, 73, 74, 75, 76, 77,\n",
       "       78, 79, 80, 81, 82, 83, 84, 85, 86, 87, 88, 89, 90, 91, 92, 93, 94,\n",
       "       95, 96, 97, 98, 99])"
      ]
     },
     "execution_count": 630,
     "metadata": {},
     "output_type": "execute_result"
    }
   ],
   "source": [
    "v2=np.arange(10,100)\n",
    "v2"
   ]
  },
  {
   "cell_type": "code",
   "execution_count": 631,
   "metadata": {},
   "outputs": [
    {
     "data": {
      "text/plain": [
       "array([10, 20, 30, 40, 50, 60, 70, 80, 90])"
      ]
     },
     "execution_count": 631,
     "metadata": {},
     "output_type": "execute_result"
    }
   ],
   "source": [
    "v3=np.arange(10,100,10)\n",
    "v3"
   ]
  },
  {
   "cell_type": "code",
   "execution_count": 632,
   "metadata": {},
   "outputs": [
    {
     "data": {
      "text/plain": [
       "[29, 67, 40, 54, 37, 69, 14, 2]"
      ]
     },
     "execution_count": 632,
     "metadata": {},
     "output_type": "execute_result"
    }
   ],
   "source": [
    "import random\n",
    "lista=[random.randint(1,100) for i in range(random.randint(5,15))]\n",
    "lista\n"
   ]
  },
  {
   "cell_type": "code",
   "execution_count": 633,
   "metadata": {},
   "outputs": [
    {
     "data": {
      "text/plain": [
       "array([29, 67, 40, 54, 37, 69, 14,  2])"
      ]
     },
     "execution_count": 633,
     "metadata": {},
     "output_type": "execute_result"
    }
   ],
   "source": [
    "vector=np.array(lista)\n",
    "vector"
   ]
  },
  {
   "cell_type": "code",
   "execution_count": 634,
   "metadata": {},
   "outputs": [
    {
     "data": {
      "text/plain": [
       "8"
      ]
     },
     "execution_count": 634,
     "metadata": {},
     "output_type": "execute_result"
    }
   ],
   "source": [
    "x=random.random()\n",
    "x=int(x*100)\n",
    "x"
   ]
  },
  {
   "cell_type": "code",
   "execution_count": 635,
   "metadata": {},
   "outputs": [
    {
     "data": {
      "text/plain": [
       "array([[32, 73, 13, 85, 33, 42, 11]])"
      ]
     },
     "execution_count": 635,
     "metadata": {},
     "output_type": "execute_result"
    }
   ],
   "source": [
    "#tam=int(input(\"ingrese cantidad\"))\n",
    "vec=np.random.randint(1,100,size=(1,random.randint(5,15)))\n",
    "vec"
   ]
  },
  {
   "cell_type": "code",
   "execution_count": 636,
   "metadata": {},
   "outputs": [
    {
     "data": {
      "text/plain": [
       "array([[0, 1],\n",
       "       [2, 3],\n",
       "       [4, 5]])"
      ]
     },
     "execution_count": 636,
     "metadata": {},
     "output_type": "execute_result"
    }
   ],
   "source": [
    "arreglo=np.arange(6)\n",
    "nuevo=arreglo.reshape(3,2)\n",
    "nuevo"
   ]
  },
  {
   "cell_type": "code",
   "execution_count": 637,
   "metadata": {},
   "outputs": [
    {
     "data": {
      "text/plain": [
       "array([ 0,  1,  2,  3,  4,  5, 22])"
      ]
     },
     "execution_count": 637,
     "metadata": {},
     "output_type": "execute_result"
    }
   ],
   "source": [
    "arreglo=np.arange(6)\n",
    "arreglo=np.append(arreglo,22)\n",
    "arreglo"
   ]
  },
  {
   "cell_type": "code",
   "execution_count": 638,
   "metadata": {},
   "outputs": [
    {
     "name": "stdout",
     "output_type": "stream",
     "text": [
      "7\n"
     ]
    }
   ],
   "source": [
    "print(arreglo.size)"
   ]
  },
  {
   "cell_type": "code",
   "execution_count": 639,
   "metadata": {},
   "outputs": [
    {
     "data": {
      "text/plain": [
       "array([11, 83, 98,  5, 84, 53, 15])"
      ]
     },
     "execution_count": 639,
     "metadata": {},
     "output_type": "execute_result"
    }
   ],
   "source": [
    "lista=[random.randint(1,100) for i in range(random.randint(5,15))]\n",
    "lista\n",
    "npvec=np.array(lista)\n",
    "npvec\n",
    "\n"
   ]
  },
  {
   "cell_type": "code",
   "execution_count": 640,
   "metadata": {},
   "outputs": [
    {
     "data": {
      "text/plain": [
       "array([11])"
      ]
     },
     "execution_count": 640,
     "metadata": {},
     "output_type": "execute_result"
    }
   ],
   "source": [
    "npvec[:int(npvec.size/2):3]"
   ]
  },
  {
   "cell_type": "code",
   "execution_count": 641,
   "metadata": {},
   "outputs": [
    {
     "data": {
      "text/plain": [
       "array([ 5, 53])"
      ]
     },
     "execution_count": 641,
     "metadata": {},
     "output_type": "execute_result"
    }
   ],
   "source": [
    "npvec[int(npvec.size/2)::2]"
   ]
  },
  {
   "cell_type": "code",
   "execution_count": 642,
   "metadata": {},
   "outputs": [
    {
     "data": {
      "text/plain": [
       "[11, 98, 84, 15]"
      ]
     },
     "execution_count": 642,
     "metadata": {},
     "output_type": "execute_result"
    }
   ],
   "source": [
    "lista[::2]"
   ]
  },
  {
   "cell_type": "code",
   "execution_count": 643,
   "metadata": {},
   "outputs": [
    {
     "data": {
      "text/plain": [
       "[]"
      ]
     },
     "execution_count": 643,
     "metadata": {},
     "output_type": "execute_result"
    }
   ],
   "source": [
    "lista[8:]"
   ]
  },
  {
   "cell_type": "code",
   "execution_count": 644,
   "metadata": {},
   "outputs": [
    {
     "data": {
      "text/plain": [
       "[15, 53, 84, 5]"
      ]
     },
     "execution_count": 644,
     "metadata": {},
     "output_type": "execute_result"
    }
   ],
   "source": [
    "lista[-1:-5:-1]"
   ]
  },
  {
   "cell_type": "code",
   "execution_count": null,
   "metadata": {},
   "outputs": [],
   "source": []
  },
  {
   "cell_type": "code",
   "execution_count": 645,
   "metadata": {},
   "outputs": [
    {
     "data": {
      "text/plain": [
       "array([[33, 61, 52, 55, 75],\n",
       "       [ 8,  2, 39, 93, 51],\n",
       "       [95, 76, 53, 68, 18],\n",
       "       [63, 79, 71, 10, 65],\n",
       "       [75, 11, 79, 28, 75]])"
      ]
     },
     "execution_count": 645,
     "metadata": {},
     "output_type": "execute_result"
    }
   ],
   "source": [
    "matrix=np.random.randint(1,100,size=(5,5))\n",
    "matrix"
   ]
  },
  {
   "cell_type": "code",
   "execution_count": 646,
   "metadata": {},
   "outputs": [
    {
     "data": {
      "text/plain": [
       "array([[61, 55],\n",
       "       [ 2, 93],\n",
       "       [76, 68],\n",
       "       [79, 10],\n",
       "       [11, 28]])"
      ]
     },
     "execution_count": 646,
     "metadata": {},
     "output_type": "execute_result"
    }
   ],
   "source": [
    "matrix[:,1::2]"
   ]
  },
  {
   "cell_type": "code",
   "execution_count": 647,
   "metadata": {},
   "outputs": [
    {
     "data": {
      "text/plain": [
       "55.2"
      ]
     },
     "execution_count": 647,
     "metadata": {},
     "output_type": "execute_result"
    }
   ],
   "source": [
    "np.mean(matrix[0])"
   ]
  },
  {
   "cell_type": "code",
   "execution_count": 648,
   "metadata": {},
   "outputs": [
    {
     "name": "stdout",
     "output_type": "stream",
     "text": [
      "<_csv.reader object at 0x00000242F4E9ED40>\n",
      "<class '_csv.reader'>\n",
      "(561,)\n",
      "1\n",
      "[[ 2600]\n",
      " [ 2600]\n",
      " [ 4400]\n",
      " [13000]\n",
      " [ 6000]\n",
      " [ 6500]\n",
      " [10000]\n",
      " [12008]\n",
      " [ 8300]\n",
      " [24000]\n",
      " [17000]\n",
      " [17000]\n",
      " [ 9000]\n",
      " [ 6000]\n",
      " [ 4800]\n",
      " [ 4800]\n",
      " [ 4200]\n",
      " [12008]\n",
      " [ 9000]\n",
      " [ 8200]\n",
      " [ 7700]\n",
      " [ 7800]\n",
      " [ 6900]\n",
      " [11000]\n",
      " [ 3100]\n",
      " [ 2900]\n",
      " [ 2800]\n",
      " [ 2600]\n",
      " [ 2500]\n",
      " [ 8000]\n",
      " [ 8200]\n",
      " [ 7900]\n",
      " [ 6500]\n",
      " [ 5800]\n",
      " [ 3200]\n",
      " [ 2700]\n",
      " [ 2400]\n",
      " [ 2200]\n",
      " [ 3300]\n",
      " [ 2800]\n",
      " [ 2500]\n",
      " [ 2100]\n",
      " [ 3300]\n",
      " [ 2900]\n",
      " [ 2400]\n",
      " [ 2200]\n",
      " [ 3600]\n",
      " [ 3200]\n",
      " [ 2700]\n",
      " [ 2500]]\n",
      "suma de los salarios:   309116\n",
      "promedio de los salarios:   6182.32\n",
      "salario menor:  2100\n",
      "salario maximo:  24000\n"
     ]
    }
   ],
   "source": [
    "import csv\n",
    "import numpy as np\n",
    "arreglo=np.array([])\n",
    "type(arreglo)\n",
    "#with open(\"C:\\\\Users\\\\usuario\\\\Dropbox\\\\sena2025\\\\Trimestre1-Febrero10-Abril25\\\\2996881_Analitica\\\\datos2.csv\") as mycsv:\n",
    "with open(\"employees.csv\") as mycsv:\n",
    "    data=csv.reader(mycsv)\n",
    "    print(data)\n",
    "    print(type(data))\n",
    "    for x in data:\n",
    "        #print(x)\n",
    "        arreglo=np.append(arreglo,x)\n",
    "print(arreglo.shape)\n",
    "print(arreglo.ndim)\n",
    "arreglo=arreglo.reshape(51,11)\n",
    "salario = arreglo[1:,7:8]\n",
    "salarionum= salario.astype(int)\n",
    "\n",
    "print(salarionum)\n",
    "\n",
    "print(\"suma de los salarios:  \", np.sum(salarionum))\n",
    "print(\"promedio de los salarios:  \", np.mean(salarionum))\n",
    "print(\"salario menor: \",np.min(salarionum))\n",
    "print(\"salario maximo: \",np.max(salarionum))\n",
    "\n",
    "\n",
    "\n",
    "\n"
   ]
  },
  {
   "cell_type": "code",
   "execution_count": 649,
   "metadata": {},
   "outputs": [
    {
     "data": {
      "text/plain": [
       "array([['OConnell'],\n",
       "       ['Grant'],\n",
       "       ['Whalen'],\n",
       "       ['Hartstein'],\n",
       "       ['Fay'],\n",
       "       ['Mavris'],\n",
       "       ['Baer'],\n",
       "       ['Higgins'],\n",
       "       ['Gietz'],\n",
       "       ['King'],\n",
       "       ['Kochhar'],\n",
       "       ['De Haan'],\n",
       "       ['Hunold'],\n",
       "       ['Ernst'],\n",
       "       ['Austin'],\n",
       "       ['Pataballa'],\n",
       "       ['Lorentz'],\n",
       "       ['Greenberg'],\n",
       "       ['Faviet'],\n",
       "       ['Chen'],\n",
       "       ['Sciarra'],\n",
       "       ['Urman'],\n",
       "       ['Popp'],\n",
       "       ['Raphaely'],\n",
       "       ['Khoo'],\n",
       "       ['Baida'],\n",
       "       ['Tobias'],\n",
       "       ['Himuro'],\n",
       "       ['Colmenares'],\n",
       "       ['Weiss'],\n",
       "       ['Fripp'],\n",
       "       ['Kaufling'],\n",
       "       ['Vollman'],\n",
       "       ['Mourgos'],\n",
       "       ['Nayer'],\n",
       "       ['Mikkilineni'],\n",
       "       ['Landry'],\n",
       "       ['Markle'],\n",
       "       ['Bissot'],\n",
       "       ['Atkinson'],\n",
       "       ['Marlow'],\n",
       "       ['Olson'],\n",
       "       ['Mallin'],\n",
       "       ['Rogers'],\n",
       "       ['Gee'],\n",
       "       ['Philtanker'],\n",
       "       ['Ladwig'],\n",
       "       ['Stiles'],\n",
       "       ['Seo'],\n",
       "       ['Patel']], dtype='<U32')"
      ]
     },
     "execution_count": 649,
     "metadata": {},
     "output_type": "execute_result"
    }
   ],
   "source": [
    "nombres= arreglo[1:,2:3]\n",
    "nombres\n",
    "#apellidos= arreglo[1:,3:4]\n"
   ]
  }
 ],
 "metadata": {
  "kernelspec": {
   "display_name": "Python [conda env:base] *",
   "language": "python",
   "name": "conda-base-py"
  },
  "language_info": {
   "codemirror_mode": {
    "name": "ipython",
    "version": 3
   },
   "file_extension": ".py",
   "mimetype": "text/x-python",
   "name": "python",
   "nbconvert_exporter": "python",
   "pygments_lexer": "ipython3",
   "version": "3.12.7"
  }
 },
 "nbformat": 4,
 "nbformat_minor": 4
}
