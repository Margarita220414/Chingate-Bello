{
 "cells": [
  {
   "cell_type": "markdown",
   "id": "87860e3f-d16c-4e65-8dd4-0a57b963668d",
   "metadata": {},
   "source": [
    "# Proyecto de Formación, de Programación para Alítica de Datos"
   ]
  },
  {
   "cell_type": "markdown",
   "id": "2b64f1b1-7049-40d2-b6eb-2515c7d3874b",
   "metadata": {},
   "source": [
    "## Análisis Profundo sobre Seguridad Alimentaria y Agricola."
   ]
  },
  {
   "cell_type": "markdown",
   "id": "ce1bbd74-68d7-41eb-8a0c-35d40bdca0ed",
   "metadata": {},
   "source": [
    "### 1.Data set  encontrados sobre la proporción de niños con bajo peso."
   ]
  },
  {
   "cell_type": "code",
   "execution_count": 2,
   "id": "68f77d45-a1c1-456f-9966-481bc20f52d2",
   "metadata": {},
   "outputs": [
    {
     "data": {
      "text/html": [
       "<div>\n",
       "<style scoped>\n",
       "    .dataframe tbody tr th:only-of-type {\n",
       "        vertical-align: middle;\n",
       "    }\n",
       "\n",
       "    .dataframe tbody tr th {\n",
       "        vertical-align: top;\n",
       "    }\n",
       "\n",
       "    .dataframe thead th {\n",
       "        text-align: right;\n",
       "    }\n",
       "</style>\n",
       "<table border=\"1\" class=\"dataframe\">\n",
       "  <thead>\n",
       "    <tr style=\"text-align: right;\">\n",
       "      <th></th>\n",
       "      <th>Entity</th>\n",
       "      <th>Code</th>\n",
       "      <th>Year</th>\n",
       "      <th>Prevalence of underweight, weight for age (% of children under 5)</th>\n",
       "    </tr>\n",
       "  </thead>\n",
       "  <tbody>\n",
       "    <tr>\n",
       "      <th>0</th>\n",
       "      <td>Afghanistan</td>\n",
       "      <td>AFG</td>\n",
       "      <td>1997</td>\n",
       "      <td>44.900002</td>\n",
       "    </tr>\n",
       "    <tr>\n",
       "      <th>1</th>\n",
       "      <td>Afghanistan</td>\n",
       "      <td>AFG</td>\n",
       "      <td>2004</td>\n",
       "      <td>32.900002</td>\n",
       "    </tr>\n",
       "    <tr>\n",
       "      <th>2</th>\n",
       "      <td>Afghanistan</td>\n",
       "      <td>AFG</td>\n",
       "      <td>2013</td>\n",
       "      <td>24.600000</td>\n",
       "    </tr>\n",
       "    <tr>\n",
       "      <th>3</th>\n",
       "      <td>Afghanistan</td>\n",
       "      <td>AFG</td>\n",
       "      <td>2018</td>\n",
       "      <td>19.100000</td>\n",
       "    </tr>\n",
       "    <tr>\n",
       "      <th>4</th>\n",
       "      <td>Albania</td>\n",
       "      <td>ALB</td>\n",
       "      <td>1997</td>\n",
       "      <td>7.100000</td>\n",
       "    </tr>\n",
       "    <tr>\n",
       "      <th>...</th>\n",
       "      <td>...</td>\n",
       "      <td>...</td>\n",
       "      <td>...</td>\n",
       "      <td>...</td>\n",
       "    </tr>\n",
       "    <tr>\n",
       "      <th>1221</th>\n",
       "      <td>Zimbabwe</td>\n",
       "      <td>ZWE</td>\n",
       "      <td>2009</td>\n",
       "      <td>11.700000</td>\n",
       "    </tr>\n",
       "    <tr>\n",
       "      <th>1222</th>\n",
       "      <td>Zimbabwe</td>\n",
       "      <td>ZWE</td>\n",
       "      <td>2010</td>\n",
       "      <td>10.200000</td>\n",
       "    </tr>\n",
       "    <tr>\n",
       "      <th>1223</th>\n",
       "      <td>Zimbabwe</td>\n",
       "      <td>ZWE</td>\n",
       "      <td>2014</td>\n",
       "      <td>11.200000</td>\n",
       "    </tr>\n",
       "    <tr>\n",
       "      <th>1224</th>\n",
       "      <td>Zimbabwe</td>\n",
       "      <td>ZWE</td>\n",
       "      <td>2015</td>\n",
       "      <td>8.500000</td>\n",
       "    </tr>\n",
       "    <tr>\n",
       "      <th>1225</th>\n",
       "      <td>Zimbabwe</td>\n",
       "      <td>ZWE</td>\n",
       "      <td>2019</td>\n",
       "      <td>9.700000</td>\n",
       "    </tr>\n",
       "  </tbody>\n",
       "</table>\n",
       "<p>1226 rows × 4 columns</p>\n",
       "</div>"
      ],
      "text/plain": [
       "           Entity Code  Year  \\\n",
       "0     Afghanistan  AFG  1997   \n",
       "1     Afghanistan  AFG  2004   \n",
       "2     Afghanistan  AFG  2013   \n",
       "3     Afghanistan  AFG  2018   \n",
       "4         Albania  ALB  1997   \n",
       "...           ...  ...   ...   \n",
       "1221     Zimbabwe  ZWE  2009   \n",
       "1222     Zimbabwe  ZWE  2010   \n",
       "1223     Zimbabwe  ZWE  2014   \n",
       "1224     Zimbabwe  ZWE  2015   \n",
       "1225     Zimbabwe  ZWE  2019   \n",
       "\n",
       "      Prevalence of underweight, weight for age (% of children under 5)  \n",
       "0                                             44.900002                  \n",
       "1                                             32.900002                  \n",
       "2                                             24.600000                  \n",
       "3                                             19.100000                  \n",
       "4                                              7.100000                  \n",
       "...                                                 ...                  \n",
       "1221                                          11.700000                  \n",
       "1222                                          10.200000                  \n",
       "1223                                          11.200000                  \n",
       "1224                                           8.500000                  \n",
       "1225                                           9.700000                  \n",
       "\n",
       "[1226 rows x 4 columns]"
      ]
     },
     "execution_count": 2,
     "metadata": {},
     "output_type": "execute_result"
    }
   ],
   "source": [
    "import pandas as pd\n",
    "data_csv=pd.read_csv(\"proporcion de niños con bajo peso.csv\")\n",
    "data_csv"
   ]
  },
  {
   "cell_type": "markdown",
   "id": "78724af1-74b1-4e3c-acb1-58d4ff269c6b",
   "metadata": {},
   "source": [
    "### Nombres y Tipos de Datos de Cada Encabezado."
   ]
  },
  {
   "cell_type": "code",
   "execution_count": 9,
   "id": "651feca4-6749-446d-9433-37d273c51956",
   "metadata": {},
   "outputs": [
    {
     "data": {
      "text/plain": [
       "Entity                                                                object\n",
       "Code                                                                  object\n",
       "Year                                                                   int64\n",
       "Prevalence of underweight, weight for age (% of children under 5)    float64\n",
       "dtype: object"
      ]
     },
     "execution_count": 9,
     "metadata": {},
     "output_type": "execute_result"
    }
   ],
   "source": [
    "data_csv.dtypes "
   ]
  },
  {
   "cell_type": "markdown",
   "id": "92b0b547-f6a2-4f85-84d8-dcd3151a86e4",
   "metadata": {},
   "source": [
    "### Promedios Estadisticos Basicos."
   ]
  },
  {
   "cell_type": "code",
   "execution_count": 10,
   "id": "d89d37f3-5c5d-432d-b703-2c19d67e16f6",
   "metadata": {},
   "outputs": [
    {
     "data": {
      "text/html": [
       "<div>\n",
       "<style scoped>\n",
       "    .dataframe tbody tr th:only-of-type {\n",
       "        vertical-align: middle;\n",
       "    }\n",
       "\n",
       "    .dataframe tbody tr th {\n",
       "        vertical-align: top;\n",
       "    }\n",
       "\n",
       "    .dataframe thead th {\n",
       "        text-align: right;\n",
       "    }\n",
       "</style>\n",
       "<table border=\"1\" class=\"dataframe\">\n",
       "  <thead>\n",
       "    <tr style=\"text-align: right;\">\n",
       "      <th></th>\n",
       "      <th>Year</th>\n",
       "      <th>Prevalence of underweight, weight for age (% of children under 5)</th>\n",
       "    </tr>\n",
       "  </thead>\n",
       "  <tbody>\n",
       "    <tr>\n",
       "      <th>count</th>\n",
       "      <td>1226.000000</td>\n",
       "      <td>1226.000000</td>\n",
       "    </tr>\n",
       "    <tr>\n",
       "      <th>mean</th>\n",
       "      <td>2005.761011</td>\n",
       "      <td>15.070761</td>\n",
       "    </tr>\n",
       "    <tr>\n",
       "      <th>std</th>\n",
       "      <td>8.843352</td>\n",
       "      <td>12.083167</td>\n",
       "    </tr>\n",
       "    <tr>\n",
       "      <th>min</th>\n",
       "      <td>1983.000000</td>\n",
       "      <td>0.000000</td>\n",
       "    </tr>\n",
       "    <tr>\n",
       "      <th>25%</th>\n",
       "      <td>2000.000000</td>\n",
       "      <td>4.600000</td>\n",
       "    </tr>\n",
       "    <tr>\n",
       "      <th>50%</th>\n",
       "      <td>2006.000000</td>\n",
       "      <td>13.166591</td>\n",
       "    </tr>\n",
       "    <tr>\n",
       "      <th>75%</th>\n",
       "      <td>2013.000000</td>\n",
       "      <td>22.100000</td>\n",
       "    </tr>\n",
       "    <tr>\n",
       "      <th>max</th>\n",
       "      <td>2020.000000</td>\n",
       "      <td>66.800003</td>\n",
       "    </tr>\n",
       "  </tbody>\n",
       "</table>\n",
       "</div>"
      ],
      "text/plain": [
       "              Year  \\\n",
       "count  1226.000000   \n",
       "mean   2005.761011   \n",
       "std       8.843352   \n",
       "min    1983.000000   \n",
       "25%    2000.000000   \n",
       "50%    2006.000000   \n",
       "75%    2013.000000   \n",
       "max    2020.000000   \n",
       "\n",
       "       Prevalence of underweight, weight for age (% of children under 5)  \n",
       "count                                        1226.000000                  \n",
       "mean                                           15.070761                  \n",
       "std                                            12.083167                  \n",
       "min                                             0.000000                  \n",
       "25%                                             4.600000                  \n",
       "50%                                            13.166591                  \n",
       "75%                                            22.100000                  \n",
       "max                                            66.800003                  "
      ]
     },
     "execution_count": 10,
     "metadata": {},
     "output_type": "execute_result"
    }
   ],
   "source": [
    "data_csv.describe()"
   ]
  },
  {
   "cell_type": "markdown",
   "id": "2a730d6b-8f25-47a9-ab89-88d298e6f50e",
   "metadata": {},
   "source": [
    "### Análisis de los Países Registrados y la Fecha del Reguistro."
   ]
  },
  {
   "cell_type": "code",
   "execution_count": 22,
   "id": "217af655-0f57-4ef5-9e8c-dbf7d32c4465",
   "metadata": {},
   "outputs": [
    {
     "data": {
      "text/html": [
       "<div>\n",
       "<style scoped>\n",
       "    .dataframe tbody tr th:only-of-type {\n",
       "        vertical-align: middle;\n",
       "    }\n",
       "\n",
       "    .dataframe tbody tr th {\n",
       "        vertical-align: top;\n",
       "    }\n",
       "\n",
       "    .dataframe thead th {\n",
       "        text-align: right;\n",
       "    }\n",
       "</style>\n",
       "<table border=\"1\" class=\"dataframe\">\n",
       "  <thead>\n",
       "    <tr style=\"text-align: right;\">\n",
       "      <th></th>\n",
       "      <th>Entity</th>\n",
       "      <th>Year</th>\n",
       "    </tr>\n",
       "  </thead>\n",
       "  <tbody>\n",
       "    <tr>\n",
       "      <th>0</th>\n",
       "      <td>Afghanistan</td>\n",
       "      <td>1997</td>\n",
       "    </tr>\n",
       "    <tr>\n",
       "      <th>1</th>\n",
       "      <td>Afghanistan</td>\n",
       "      <td>2004</td>\n",
       "    </tr>\n",
       "    <tr>\n",
       "      <th>2</th>\n",
       "      <td>Afghanistan</td>\n",
       "      <td>2013</td>\n",
       "    </tr>\n",
       "    <tr>\n",
       "      <th>3</th>\n",
       "      <td>Afghanistan</td>\n",
       "      <td>2018</td>\n",
       "    </tr>\n",
       "    <tr>\n",
       "      <th>4</th>\n",
       "      <td>Albania</td>\n",
       "      <td>1997</td>\n",
       "    </tr>\n",
       "    <tr>\n",
       "      <th>...</th>\n",
       "      <td>...</td>\n",
       "      <td>...</td>\n",
       "    </tr>\n",
       "    <tr>\n",
       "      <th>1221</th>\n",
       "      <td>Zimbabwe</td>\n",
       "      <td>2009</td>\n",
       "    </tr>\n",
       "    <tr>\n",
       "      <th>1222</th>\n",
       "      <td>Zimbabwe</td>\n",
       "      <td>2010</td>\n",
       "    </tr>\n",
       "    <tr>\n",
       "      <th>1223</th>\n",
       "      <td>Zimbabwe</td>\n",
       "      <td>2014</td>\n",
       "    </tr>\n",
       "    <tr>\n",
       "      <th>1224</th>\n",
       "      <td>Zimbabwe</td>\n",
       "      <td>2015</td>\n",
       "    </tr>\n",
       "    <tr>\n",
       "      <th>1225</th>\n",
       "      <td>Zimbabwe</td>\n",
       "      <td>2019</td>\n",
       "    </tr>\n",
       "  </tbody>\n",
       "</table>\n",
       "<p>1226 rows × 2 columns</p>\n",
       "</div>"
      ],
      "text/plain": [
       "           Entity  Year\n",
       "0     Afghanistan  1997\n",
       "1     Afghanistan  2004\n",
       "2     Afghanistan  2013\n",
       "3     Afghanistan  2018\n",
       "4         Albania  1997\n",
       "...           ...   ...\n",
       "1221     Zimbabwe  2009\n",
       "1222     Zimbabwe  2010\n",
       "1223     Zimbabwe  2014\n",
       "1224     Zimbabwe  2015\n",
       "1225     Zimbabwe  2019\n",
       "\n",
       "[1226 rows x 2 columns]"
      ]
     },
     "execution_count": 22,
     "metadata": {},
     "output_type": "execute_result"
    }
   ],
   "source": [
    "data_csv.loc[:,[\"Entity\",\"Year\"]]"
   ]
  },
  {
   "cell_type": "markdown",
   "id": "4981a453-69eb-457b-b3b9-de719b2decbf",
   "metadata": {},
   "source": [
    "### Cantidad de Niños Menores de 5 Años con Prevalencia en Bajo Peso, por País y Año.(\"PAISES QUE SE VEN MAS AFECTADOS POR EL HAMBRE\")"
   ]
  },
  {
   "cell_type": "code",
   "execution_count": 26,
   "id": "4fb6148e-92d5-4122-83a7-665389cedfb5",
   "metadata": {},
   "outputs": [
    {
     "data": {
      "text/plain": [
       "Entity       Code  Year  Prevalence of underweight, weight for age (% of children under 5)\n",
       "Afghanistan  AFG   1997  44.900002                                                            1\n",
       "Peru         PER   2005  5.400000                                                             1\n",
       "Pakistan     PAK   1991  38.400002                                                            1\n",
       "                   1992  35.299999                                                            1\n",
       "                   1995  34.200001                                                            1\n",
       "                                                                                             ..\n",
       "Guyana       GUY   2014  8.200000                                                             1\n",
       "Haiti        HTI   1990  23.700001                                                            1\n",
       "                   1994  23.799999                                                            1\n",
       "                   2000  13.900000                                                            1\n",
       "Zimbabwe     ZWE   2019  9.700000                                                             1\n",
       "Name: count, Length: 974, dtype: int64"
      ]
     },
     "execution_count": 26,
     "metadata": {},
     "output_type": "execute_result"
    }
   ],
   "source": [
    "data_csv.value_counts()"
   ]
  },
  {
   "cell_type": "code",
   "execution_count": null,
   "id": "05f79d97-d46c-44c2-b38b-e88c6771ac77",
   "metadata": {},
   "outputs": [],
   "source": []
  }
 ],
 "metadata": {
  "kernelspec": {
   "display_name": "Python 3 (ipykernel)",
   "language": "python",
   "name": "python3"
  },
  "language_info": {
   "codemirror_mode": {
    "name": "ipython",
    "version": 3
   },
   "file_extension": ".py",
   "mimetype": "text/x-python",
   "name": "python",
   "nbconvert_exporter": "python",
   "pygments_lexer": "ipython3",
   "version": "3.12.7"
  }
 },
 "nbformat": 4,
 "nbformat_minor": 5
}
