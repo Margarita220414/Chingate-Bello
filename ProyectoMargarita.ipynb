{
  "metadata": {
    "kernelspec": {
      "name": "python",
      "display_name": "Python (Pyodide)",
      "language": "python"
    },
    "language_info": {
      "codemirror_mode": {
        "name": "python",
        "version": 3
      },
      "file_extension": ".py",
      "mimetype": "text/x-python",
      "name": "python",
      "nbconvert_exporter": "python",
      "pygments_lexer": "ipython3",
      "version": "3.8"
    }
  },
  "nbformat_minor": 5,
  "nbformat": 4,
  "cells": [
    {
      "id": "87860e3f-d16c-4e65-8dd4-0a57b963668d",
      "cell_type": "markdown",
      "source": "# Proyecto de Formación, de Programación para Alítica de Datos",
      "metadata": {}
    },
    {
      "id": "2b64f1b1-7049-40d2-b6eb-2515c7d3874b",
      "cell_type": "markdown",
      "source": "## Análisis Profundo sobre Seguridad Alimentaria y Agricola.",
      "metadata": {}
    },
    {
      "id": "ce1bbd74-68d7-41eb-8a0c-35d40bdca0ed",
      "cell_type": "markdown",
      "source": "### 1.Data set  encontrados sobre el impacto del cambio climatico en la agricultura.",
      "metadata": {}
    },
    {
      "id": "68f77d45-a1c1-456f-9966-481bc20f52d2",
      "cell_type": "code",
      "source": "import pandas as pd\nimport numpy as np\nimport matplotlib.pyplot as plt\ndata_csv=pd.read_csv(\"impacto del cambio climatico en la agricultura.csv\")\ndata_csv",
      "metadata": {
        "trusted": true,
        "scrolled": true
      },
      "outputs": [],
      "execution_count": null
    },
    {
      "id": "78724af1-74b1-4e3c-acb1-58d4ff269c6b",
      "cell_type": "markdown",
      "source": "### Cambio del tipo de dato de \"Year\" era int64 y (deben ser datatime64 que es Fecha y hora).",
      "metadata": {}
    },
    {
      "id": "eaa1c7dc-9458-4484-bd8b-346b765267d9",
      "cell_type": "code",
      "source": "data_csv[\"Year\"] = pd.to_datetime(data_csv[\"Year\"])\ndata_csv[\"Year\"]",
      "metadata": {
        "trusted": true
      },
      "outputs": [],
      "execution_count": null
    },
    {
      "id": "24640dd2-34e4-4d73-be06-5cbb318fb8a5",
      "cell_type": "markdown",
      "source": "### Nombres y Tipos de Datos de Cada Encabezado.",
      "metadata": {}
    },
    {
      "id": "ff9edcc2-36e6-442c-8541-4df16c9a1f1b",
      "cell_type": "code",
      "source": " Soil_Health_Index,  Adaptation_Strategies ",
      "metadata": {
        "trusted": true
      },
      "outputs": [],
      "execution_count": null
    },
    {
      "id": "651feca4-6749-446d-9433-37d273c51956",
      "cell_type": "code",
      "source": "data_csv.dtypes ",
      "metadata": {
        "trusted": true
      },
      "outputs": [],
      "execution_count": null
    },
    {
      "id": "e2b2be49-8b89-4df7-90a6-097a271da290",
      "cell_type": "markdown",
      "source": "Year                           datetime64[ns] – Cuantitativos - números – DISCRETAS.\n\nCountry                                object – Cualitativos – cualquiera – NOMINAL.\n\nRegion                                 object – Cualitativos – cualquiera – NOMINAL.\n\nCrop_Type                              object - Cualitativos – cualquiera – NOMINAL.\n\nAverage_Temperature_C                 float64 - Cuantitativos – numeros – CONTINUAS.\n\nTotal_Precipitation_mm                float64 – Cuantitativos – numeros – CONTINUAS.\n\nCO2_Emissions_MT                      float64 - Cuantitativos – numeros – CONTINUAS.\n\nCrop_Yield_MT_per_HA                  float64 - Cuantitativos – numeros – CONTINUAS.\n\nExtreme_Weather_Events                  int64 -  Cuantitativos – numeros – DISCRETAS.\n\nIrrigation_Access_%                   float64 - Cuantitativos – numeros – CONTINUAS.\n\nPesticide_Use_KG_per_HA               float64 - Cuantitativos – numeros – CONTINUAS.\n\nFertilizer_Use_KG_per_HA              float64 - Cuantitativos – numeros – CONTINUAS.\n\nSoil_Health_Index                     float64 - Cuantitativos – numeros – CONTINUAS.\n\nAdaptation_Strategies                  object - Cualitativos – cualquiera – ORDINAL.\n\nEconomic_Impact_Million_USD           float64 - Cuantitativos – numeros –CONTINUAS.\n",
      "metadata": {}
    },
    {
      "id": "92b0b547-f6a2-4f85-84d8-dcd3151a86e4",
      "cell_type": "markdown",
      "source": "### Promedios Estadisticos Basicos.",
      "metadata": {}
    },
    {
      "id": "d89d37f3-5c5d-432d-b703-2c19d67e16f6",
      "cell_type": "code",
      "source": "data_csv.describe()",
      "metadata": {
        "trusted": true
      },
      "outputs": [],
      "execution_count": null
    },
    {
      "id": "2a730d6b-8f25-47a9-ab89-88d298e6f50e",
      "cell_type": "markdown",
      "source": "### Análisis de los Países Registrados y la Fecha del Reguistro.",
      "metadata": {}
    },
    {
      "id": "217af655-0f57-4ef5-9e8c-dbf7d32c4465",
      "cell_type": "code",
      "source": "data_csv.loc[:,[\"Country\",\"Year\"]]\n",
      "metadata": {
        "trusted": true
      },
      "outputs": [],
      "execution_count": null
    },
    {
      "id": "e4c7ff2c-f4c4-4bc3-9698-c6780f32d0ec",
      "cell_type": "markdown",
      "source": "### Total de Paises Registrados.",
      "metadata": {}
    },
    {
      "id": "cf14adf4-7e04-482d-9962-57226e346791",
      "cell_type": "code",
      "source": "total_paises = data_csv[\"Country\"].unique()\nprint(\"Total de valores unicos 'Country':\", total_paises)",
      "metadata": {
        "trusted": true
      },
      "outputs": [],
      "execution_count": null
    },
    {
      "id": "6dc1190e-e273-462d-b9c7-ade4b764f799",
      "cell_type": "markdown",
      "source": "### País, Año y Temperatura del registro.",
      "metadata": {}
    },
    {
      "id": "2409f1a9-bfa5-4e34-992f-3a45fb6d66fc",
      "cell_type": "code",
      "source": " data_csv.loc[:,[\"Country\",\"Year\",\"Average_Temperature_C\"]]",
      "metadata": {
        "trusted": true
      },
      "outputs": [],
      "execution_count": null
    },
    {
      "id": "25641b4e-5860-44cc-abfe-d67bf635b9d8",
      "cell_type": "markdown",
      "source": "### Temperatura más alta del registro.",
      "metadata": {}
    },
    {
      "id": "3475b431-d672-47a7-a6c4-9aed1d9c766a",
      "cell_type": "code",
      "source": "valor_maximo = data_csv.groupby(\"Year\")[\"Average_Temperature_C\"].max()\nprint(\"El valor máximo de las temperaturas por año son:\", valor_maximo)",
      "metadata": {
        "trusted": true
      },
      "outputs": [],
      "execution_count": null
    },
    {
      "id": "56657f5a-5ebc-4214-8dce-6c659c67f4a5",
      "cell_type": "code",
      "source": "valor_maximo= data_csv[\"Average_Temperature_C\"].max()\nprint(\"El valor maximo de temperatura registrado es:\", valor_maximo)",
      "metadata": {
        "trusted": true
      },
      "outputs": [],
      "execution_count": null
    },
    {
      "id": "8e75b8aa-8004-475b-a321-8430481e83ac",
      "cell_type": "markdown",
      "source": "### temperatura más baja del registro.",
      "metadata": {}
    },
    {
      "id": "694bb881-d9c2-4b5f-ac6e-b065e6b6eab4",
      "cell_type": "code",
      "source": "valor_minimo = data_csv.groupby(\"Year\")[\"Average_Temperature_C\"].min()\nprint(\"El valor minimo de las temperaturas por año son:\", valor_minimo)",
      "metadata": {
        "trusted": true
      },
      "outputs": [],
      "execution_count": null
    },
    {
      "id": "22c2519c-8034-42de-9173-13af4e2b72c8",
      "cell_type": "code",
      "source": "valor_minimo = data_csv[\"Average_Temperature_C\"].min()\nprint(\"El valor minimo de temperatura es:\", valor_minimo)",
      "metadata": {
        "trusted": true
      },
      "outputs": [],
      "execution_count": null
    },
    {
      "id": "bed4ba2e-004d-4739-8b90-d10961c5b4cc",
      "cell_type": "markdown",
      "source": "### Valores faltantes por columna.",
      "metadata": {}
    },
    {
      "id": "05f79d97-d46c-44c2-b38b-e88c6771ac77",
      "cell_type": "code",
      "source": "print(\"\\nValores faltantes por columna:\")\nprint(data_csv.isnull().sum())",
      "metadata": {
        "trusted": true
      },
      "outputs": [],
      "execution_count": null
    },
    {
      "id": "b31cb84f-e590-4f66-bda0-b74292570ed0",
      "cell_type": "markdown",
      "source": "### Filas duplicadas.",
      "metadata": {}
    },
    {
      "id": "4a3babbf-9c75-4238-8c8a-6dc467f8f6a6",
      "cell_type": "code",
      "source": "print(\"\\nFilas duplicadas:\")\nprint(data_csv.duplicated().sum()) ",
      "metadata": {
        "trusted": true
      },
      "outputs": [],
      "execution_count": null
    },
    {
      "id": "095d59c0-6094-4d4f-8e92-d6cbc23938c6",
      "cell_type": "code",
      "source": "print(\"\\nResumen final del dataset limpio:\")\nprint(data_csv.info())\nprint(\"\\nEstadísticas descriptivas:\")\nprint(data_csv.describe())",
      "metadata": {
        "trusted": true
      },
      "outputs": [],
      "execution_count": null
    },
    {
      "id": "6090908b-148d-4096-92c3-5586ba271270",
      "cell_type": "markdown",
      "source": "## Tendencia del rendimiento de cultivos (Crop_Yield_MT_per_HA) .",
      "metadata": {}
    },
    {
      "id": "f3f497f5-2c60-4c23-b90f-92795e0f2c63",
      "cell_type": "markdown",
      "source": "### Gráfico de Dispersión sobre el Rendimiento de Cultivos en Toneladas Métricas por hectárea  (Crop_Yield_MT_per_HA).",
      "metadata": {}
    },
    {
      "id": "76a9b1a8-f2e6-428d-847a-87c5c3f04a9c",
      "cell_type": "code",
      "source": "x =data_csv[\"Crop_Yield_MT_per_HA\"]\ny =data_csv[\"Region\"]\n# Crear gráfico de dispersión cuantitativa discreta y continua\nplt.scatter(x, y, color='red') \n# Agregar título y etiquetas\nplt.title('Gráfico de Dispersión')\nplt.xlabel('Rendimiento de cultivos')\nplt.ylabel('Región') \n# Mostrar el gráfico\nplt.show() ",
      "metadata": {
        "trusted": true
      },
      "outputs": [],
      "execution_count": null
    },
    {
      "id": "e8ed666b-2ad1-4d2b-b30d-8ed82415bba6",
      "cell_type": "markdown",
      "source": "### Gráfico de barras del promedio de rendimiento por año (comparación por año).",
      "metadata": {}
    },
    {
      "id": "e952a6fa-90d6-4fa7-bc35-26d6deba21a4",
      "cell_type": "code",
      "source": "promedio_agrupado=data_csv.groupby(\"Year\")[\"Crop_Yield_MT_per_HA\"].mean().plot(kind=\"bar\")\nplt.title(\"Promedio de Rendimiento por Año\")\nplt.ylabel(\"Rendimiento de cultivos por (MT/HA)\")\nplt.show()",
      "metadata": {
        "trusted": true,
        "scrolled": true
      },
      "outputs": [],
      "execution_count": null
    },
    {
      "id": "88d132ae-d02e-4af1-9a31-cf1b4e8bd6b5",
      "cell_type": "markdown",
      "source": "### Cuantificar el impacto directo de fenómenos climáticos extremos.",
      "metadata": {}
    },
    {
      "id": "7da5cea9-7ab4-4057-baf8-78d85f982f78",
      "cell_type": "code",
      "source": "x =data_csv[\"Extreme_Weather_Events\"]\ny =data_csv[\"Crop_Yield_MT_per_HA\"]\n# Crear gráfico de dispersión cuantitativa discreta y continua\nplt.scatter(x, y, color='red') \n# Agregar título y etiquetas\nplt.title('Cuantificar el impacto directo de fenómenos climáticos extremos')\nplt.xlabel('Eventos Meteorológicos Extremos')\nplt.ylabel('Rendimiento de Cultivos (MT/HA)') \n# Mostrar el gráfico\nplt.show() ",
      "metadata": {
        "trusted": true
      },
      "outputs": [],
      "execution_count": null
    },
    {
      "id": "cd49a65d-a182-4715-a2cc-3be849d36285",
      "cell_type": "markdown",
      "source": "### Gráfico de Barras sobre la Adaptación Estrategica (Adaptation_Strategies) y Acceso al Riego % (Irrigation_Access_%).",
      "metadata": {}
    },
    {
      "id": "1afe2703-bc28-4bb5-9bd8-a81a979847a5",
      "cell_type": "code",
      "source": "categorias = data_csv[\"Adaptation_Strategies\"]\nvalores = data_csv[\"Irrigation_Access_%\"] \n# Crear gráfico de barras cualitativas o cuantitativas discretas \nplt.bar(categorias, valores, color='skyblue') \n# Agregar título y etiquetas\nplt.title('Gráfico sobre la Adaptación Estratégica y Acceso al Riego %')\nplt.xlabel('Adaptación Estratégica')\nplt.ylabel('Acceso al Riego') \n# Mostrar el gráfico\nplt.show()",
      "metadata": {
        "trusted": true
      },
      "outputs": [],
      "execution_count": null
    },
    {
      "id": "f762c436-f260-4bb6-8a0d-c25dab2b621a",
      "cell_type": "markdown",
      "source": "### Correlación entre temperatura promedio y rendimiento de cultivos",
      "metadata": {}
    },
    {
      "id": "75e49631-91c0-41e3-9ae3-b24098d230af",
      "cell_type": "code",
      "source": "categorias = data_csv[\"Average_Temperature_C\"]\nvalores = data_csv[\"Crop_Yield_MT_per_HA\"] \n# Crear gráfico de barras cualitativas o cuantitativas discretas \nplt.bar(categorias, valores, color='skyblue') \n# Agregar título y etiquetas\nplt.title(' Correlación')\nplt.xlabel('temperatura promedio')\nplt.ylabel('rendimiento de cultivo') \n# Mostrar el gráfico\nplt.show() ",
      "metadata": {
        "trusted": true
      },
      "outputs": [],
      "execution_count": null
    },
    {
      "id": "29360405-028d-4a27-80d8-3163e97a166a",
      "cell_type": "markdown",
      "source": "### Eventos Meteorológicos Extremos.",
      "metadata": {}
    },
    {
      "id": "48dd4ec4-14d9-48e3-9e0c-3071317a267d",
      "cell_type": "code",
      "source": "eventos_extremos = data_csv[\"Extreme_Weather_Events\"]\neventos_extremos",
      "metadata": {
        "trusted": true
      },
      "outputs": [],
      "execution_count": null
    },
    {
      "id": "03a461b4-4ae1-41d5-ad6e-3a0152ceca47",
      "cell_type": "markdown",
      "source": "### Porcentaje de eventos climáticos extremos que afectan negativamente el rendimiento ",
      "metadata": {}
    },
    {
      "id": "d4ecc7ba-8667-41e9-9193-01498707eb76",
      "cell_type": "code",
      "source": "valor= data_csv[\"Crop_Yield_MT_per_HA\"].sum()\ntotal= data_csv[\"Extreme_Weather_Events\"].sum()\nporcentaje = (valor / total) * 100\nporcentaje",
      "metadata": {
        "trusted": true
      },
      "outputs": [],
      "execution_count": null
    },
    {
      "id": "8f51f452-6949-4100-a3b3-4996cc837959",
      "cell_type": "markdown",
      "source": "### Promedio (rendimiento con adaptación) - Promedio (rendimiento sin adaptación)",
      "metadata": {}
    },
    {
      "id": "a742cf55-552c-460b-aa6c-5fab2967f207",
      "cell_type": "code",
      "source": "data_csv[[\"Adaptation_Strategies\",\"Crop_Yield_MT_per_HA\"]].mean",
      "metadata": {
        "trusted": true
      },
      "outputs": [],
      "execution_count": null
    },
    {
      "id": "98142a0b-59af-4511-a5b2-3f25a852ae7e",
      "cell_type": "markdown",
      "source": "### Porcentaje de mejoras en salud del suelo asociadas a prácticas sostenibles",
      "metadata": {}
    },
    {
      "id": "e32a0443-ed54-4697-a7ef-9e6242e1e4f7",
      "cell_type": "code",
      "source": "data_csv.loc[:,[\"Soil_Health_Index\",\"Adaptation_Strategies\"]].mean\n",
      "metadata": {
        "trusted": true
      },
      "outputs": [],
      "execution_count": null
    },
    {
      "id": "5cfb805b-c340-4361-804b-5533a12d0e6d",
      "cell_type": "markdown",
      "source": "### Promedio anual de rendimiento por año, tipo de cultivo y región.",
      "metadata": {}
    },
    {
      "id": "305f0596-b587-47f0-bd15-9e82bb8296e1",
      "cell_type": "code",
      "source": "promedio_anual = data_csv.groupby([\"Year\", \"Crop_Type\", \"Region\"])[\"Crop_Yield_MT_per_HA\"].mean().reset_index()\nprint(promedio_anual)",
      "metadata": {
        "trusted": true
      },
      "outputs": [],
      "execution_count": null
    },
    {
      "id": "1bde685c-87d3-4321-bfba-e80b4315b0ef",
      "cell_type": "markdown",
      "source": "### Maximo del rendimiento de cultivo por año.",
      "metadata": {}
    },
    {
      "id": "68a8b342-f081-47b1-be29-88b49f1c46fe",
      "cell_type": "code",
      "source": "rendimiento_de_cultivo_por_año = data_csv.groupby(\"Year\")[\"Crop_Yield_MT_per_HA\"].max()\nprint(\"Maximo del rendimiento de cultivo por año:\",rendimiento_de_cultivo_por_año)",
      "metadata": {
        "trusted": true
      },
      "outputs": [],
      "execution_count": null
    },
    {
      "id": "55006e4f-55c8-4f2a-8f26-cb1e9309db2c",
      "cell_type": "code",
      "source": "valor_maximo= data_csv[\"Crop_Yield_MT_per_HA\"].max()\nprint(\"El valor maximo del rendimiento de cultivo registrado es:\", valor_maximo)",
      "metadata": {
        "trusted": true
      },
      "outputs": [],
      "execution_count": null
    },
    {
      "id": "5cfff590-9b67-4f4d-a1c0-b1dee0d41f3e",
      "cell_type": "markdown",
      "source": "### Minimo del rendimiento de cultivo por año.",
      "metadata": {}
    },
    {
      "id": "dbaa1e2b-c925-429a-9407-7d08ea62ea71",
      "cell_type": "code",
      "source": "rendimiento_de_cultivo_por_año = data_csv.groupby(\"Year\")[\"Crop_Yield_MT_per_HA\"].min()\nprint(\"Minimo del rendimiento de cultivo por año:\",rendimiento_de_cultivo_por_año)",
      "metadata": {
        "trusted": true
      },
      "outputs": [],
      "execution_count": null
    },
    {
      "id": "0d70e8dd-8202-4749-ae88-3b58872084f0",
      "cell_type": "code",
      "source": "valor_minimo= data_csv[\"Crop_Yield_MT_per_HA\"].min()\nprint(\"El valor minimo del rendimiento de cultivo registrado es:\", valor_minimo)",
      "metadata": {
        "trusted": true
      },
      "outputs": [],
      "execution_count": null
    },
    {
      "id": "17aa0171-2a5e-4dac-bb85-964a075195f1",
      "cell_type": "markdown",
      "source": "### Correlación entre temperatura promedio y rendimiento de cultivos.",
      "metadata": {}
    },
    {
      "id": "72df2db2-7c08-4de8-b129-ecdf65c740ba",
      "cell_type": "code",
      "source": "data_csv.groupby([\"Crop_Type\",\"Region\"])[[\"Average_Temperature_C\",\"Crop_Yield_MT_per_HA\"]].mean()",
      "metadata": {
        "trusted": true
      },
      "outputs": [],
      "execution_count": null
    },
    {
      "id": "867387ed-445f-400e-bd60-8a35552c1049",
      "cell_type": "markdown",
      "source": "### Porcentaje de mejoras en salud del suelo asociadas a prácticas sostenibles:",
      "metadata": {}
    },
    {
      "id": "ebd75663-f812-474d-8944-8e3c14e271e6",
      "cell_type": "code",
      "source": "promedio_agrupado=data_csv.groupby(\"Adaptation_Strategies\")[\"Soil_Health_Index\"].mean().plot(kind=\"bar\")\nplt.title(\"impacto de agricultura sostenible en calidad del suelo\")\nplt.ylabel(\"calidad del suelo\")\nplt.show()",
      "metadata": {
        "trusted": true
      },
      "outputs": [],
      "execution_count": null
    },
    {
      "id": "e6f7661b-a1e5-4f78-9748-5c76dee5ac40",
      "cell_type": "code",
      "source": "",
      "metadata": {
        "trusted": true
      },
      "outputs": [],
      "execution_count": null
    }
  ]
}